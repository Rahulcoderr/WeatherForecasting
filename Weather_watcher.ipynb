{
 "cells": [
  {
   "cell_type": "markdown",
   "id": "cb0ccaf2-aea9-4ff8-bc7f-fa0d38845cdd",
   "metadata": {},
   "source": [
    "## Weather Watcher: Real-Time Weather Monitoring and Alert System using python"
   ]
  },
  {
   "cell_type": "code",
   "execution_count": 2,
   "id": "c40c23fd-3f26-40dc-b621-12237412e064",
   "metadata": {},
   "outputs": [
    {
     "name": "stdout",
     "output_type": "stream",
     "text": [
      "Database setup complete.\n"
     ]
    },
    {
     "name": "stdin",
     "output_type": "stream",
     "text": [
      "Enter the city name:  Mandya\n"
     ]
    },
    {
     "name": "stdout",
     "output_type": "stream",
     "text": [
      "Weather data for Mandya stored successfully.\n",
      "\n",
      "Weather data for Mandya:\n",
      "City: Mandya, Date: 2024-11-20 17:48:42, Temperature: 25.47°C, Humidity: 76.0%, Description: broken clouds\n",
      "\n",
      "Latest weather data for all cities:\n",
      "City: Bengaluru, Date: 2024-11-20 17:36:08, Temperature: 24.31°C, Humidity: 72.0%, Description: mist\n",
      "City: Mandya, Date: 2024-11-20 17:48:42, Temperature: 25.47°C, Humidity: 76.0%, Description: broken clouds\n",
      "City: Mysore, Date: 2024-11-20 17:40:58, Temperature: 26.0°C, Humidity: 65.0%, Description: scattered clouds\n"
     ]
    }
   ],
   "source": [
    "import sqlite3\n",
    "from datetime import datetime\n",
    "import requests\n",
    "\n",
    "# Database setup\n",
    "conn = sqlite3.connect('weather.db')\n",
    "cursor = conn.cursor()\n",
    "\n",
    "# Create Weather table if not exists\n",
    "cursor.execute(\"\"\"\n",
    "CREATE TABLE IF NOT EXISTS Weather (\n",
    "    id INTEGER PRIMARY KEY AUTOINCREMENT,\n",
    "    city TEXT NOT NULL,\n",
    "    date TEXT NOT NULL,\n",
    "    temperature REAL,\n",
    "    humidity REAL,\n",
    "    description TEXT\n",
    ")\n",
    "\"\"\")\n",
    "print(\"Database setup complete.\")\n",
    "\n",
    "# OpenWeatherMap API key\n",
    "API_KEY = 'e84485d5b239972b148f93de911d9369'\n",
    "BASE_URL = 'http://api.openweathermap.org/data/2.5/weather'\n",
    "\n",
    "# Function to fetch weather data and store in database\n",
    "def fetch_and_store_weather(city):\n",
    "    params = {'q': city, 'appid': API_KEY, 'units': 'metric'}\n",
    "    response = requests.get(BASE_URL, params=params)\n",
    "    data = response.json()\n",
    "    \n",
    "    if data['cod'] == 200:\n",
    "        weather = {\n",
    "            'city': city,\n",
    "            'date': datetime.now().strftime('%Y-%m-%d %H:%M:%S'),\n",
    "            'temperature': data['main']['temp'],\n",
    "            'humidity': data['main']['humidity'],\n",
    "            'description': data['weather'][0]['description']\n",
    "        }\n",
    "        \n",
    "        # Check for conditions that might indicate a tsunami\n",
    "        if is_tsunami_alert(data):\n",
    "            alert_tsunami(city)\n",
    "        \n",
    "        # Store weather data in database\n",
    "        cursor.execute(\"\"\"\n",
    "            INSERT INTO Weather (city, date, temperature, humidity, description)\n",
    "            VALUES (?, ?, ?, ?, ?)\n",
    "        \"\"\", (weather['city'], weather['date'], weather['temperature'], weather['humidity'], weather['description']))\n",
    "        conn.commit()\n",
    "        \n",
    "        print(f\"Weather data for {city} stored successfully.\")\n",
    "    else:\n",
    "        print(f\"Error fetching data for {city}: {data['message']}\")\n",
    "\n",
    "def is_tsunami_alert(weather_data):\n",
    "    # Example logic to determine if a tsunami alert should be triggered\n",
    "    # You might want to check for conditions that could lead to a tsunami,\n",
    "    # such as certain types of severe weather or earthquake data from other sources.\n",
    "    # This example just checks if there's a severe weather description.\n",
    "    if 'storm' in weather_data['weather'][0]['description'].lower():\n",
    "        return True\n",
    "    return False\n",
    "\n",
    "def alert_tsunami(city):\n",
    "    # Example function to alert about a tsunami\n",
    "    print(f\"Alert: Possible tsunami conditions detected in {city}!\")\n",
    "    # Here you could implement further actions such as sending notifications, etc.\n",
    "    # For demonstration purposes, it just prints a message.\n",
    "\n",
    "# Function to view weather data for a city\n",
    "def view_weather(city):\n",
    "    cursor.execute(\"\"\"\n",
    "        SELECT city, date, temperature, humidity, description\n",
    "        FROM Weather\n",
    "        WHERE city = ?\n",
    "        ORDER BY date DESC\n",
    "    \"\"\", (city,))\n",
    "    records = cursor.fetchall()\n",
    "    for record in records:\n",
    "        print(f\"City: {record[0]}, Date: {record[1]}, Temperature: {record[2]}°C, Humidity: {record[3]}%, Description: {record[4]}\")\n",
    "\n",
    "# View weather data for a city\n",
    "city = input(\"Enter the city name: \")\n",
    "fetch_and_store_weather(city)\n",
    "print(f\"\\nWeather data for {city}:\")\n",
    "view_weather(city)\n",
    "\n",
    "# Function to view the latest weather data for all cities\n",
    "def view_latest_weather():\n",
    "    cursor.execute(\"\"\"\n",
    "        SELECT city, date, temperature, humidity, description\n",
    "        FROM Weather\n",
    "        WHERE date IN (\n",
    "            SELECT MAX(date)\n",
    "            FROM Weather\n",
    "            GROUP BY city\n",
    "        )\n",
    "        ORDER BY city\n",
    "    \"\"\")\n",
    "    records = cursor.fetchall()\n",
    "    for record in records:\n",
    "        print(f\"City: {record[0]}, Date: {record[1]}, Temperature: {record[2]}°C, Humidity: {record[3]}%, Description: {record[4]}\")\n",
    "\n",
    "# View the latest weather data for all cities\n",
    "print(\"\\nLatest weather data for all cities:\")\n",
    "view_latest_weather()\n",
    "\n",
    "# Close the connection\n",
    "conn.close()\n"
   ]
  },
  {
   "cell_type": "markdown",
   "id": "4bc9301a-40fd-46d1-b70d-395253d14a9d",
   "metadata": {},
   "source": [
    "### This project, Weather Watcher, is a real-time weather monitoring and alert system that integrates the OpenWeatherMap API to fetch,store, and display weather data. It features a SQLite database for efficient data management, allowing users to view current and historical weather information for specific cities. The system includes a basic alert mechanism to detect severe weather conditions that could indicate potential risks, such as tsunamis, ensuring timely awareness and preparedness."
   ]
  },
  {
   "cell_type": "markdown",
   "id": "6f3ac98f-87a4-4fa9-8e41-a882379fc4d9",
   "metadata": {},
   "source": [
    "###### coded by Rahul R"
   ]
  }
 ],
 "metadata": {
  "kernelspec": {
   "display_name": "Python 3 (ipykernel)",
   "language": "python",
   "name": "python3"
  },
  "language_info": {
   "codemirror_mode": {
    "name": "ipython",
    "version": 3
   },
   "file_extension": ".py",
   "mimetype": "text/x-python",
   "name": "python",
   "nbconvert_exporter": "python",
   "pygments_lexer": "ipython3",
   "version": "3.12.4"
  }
 },
 "nbformat": 4,
 "nbformat_minor": 5
}
